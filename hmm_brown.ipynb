{
 "cells": [
  {
   "cell_type": "markdown",
   "metadata": {},
   "source": [
    "---\n",
    "title: HMM Brown Corpus\n",
    "subtitle: Testing my first implementation of an HMM, handbuilt. This uses the Brown Corpus dataset from Kaggle.\n",
    "author: Michael Cusack-Nelkin\n",
    "date: 'May 7th, 2025'\n",
    "format:\n",
    "    html:\n",
    "        code-fold: true\n",
    "---"
   ]
  },
  {
   "cell_type": "code",
   "execution_count": 1,
   "metadata": {},
   "outputs": [],
   "source": [
    "#activate venv\n",
    "#!python3 -m venv .venv\n",
    "!source .venv/bin/activate"
   ]
  },
  {
   "cell_type": "code",
   "execution_count": 2,
   "metadata": {},
   "outputs": [],
   "source": [
    "import numpy as np\n",
    "import pandas as pd\n",
    "import math\n",
    "from matplotlib import pyplot as plt\n",
    "import random"
   ]
  },
  {
   "cell_type": "code",
   "execution_count": 3,
   "metadata": {},
   "outputs": [],
   "source": [
    "class HMM_Brown:\n",
    "    def __init__(self,N,M,seq, loud = False):\n",
    "        #init observation sequence and dimensions\n",
    "        self.seq = seq\n",
    "        self.N = N\n",
    "        self.M = M\n",
    "        self.T = len(seq)\n",
    "        self.loud = loud\n",
    "\n",
    "        #Init transition, emission, and intitializaiton matrices\n",
    "        self.A = np.random.dirichlet(np.ones(N), size=N)\n",
    "        self.B = np.random.dirichlet(np.ones(M), size=N)\n",
    "        self.pi = np.random.dirichlet(np.ones(N), size=1)\n",
    "\n",
    "        #iteration variables\n",
    "        self.old_logprob = -np.inf\n",
    "        self.alpha = np.zeros([self.T,self.N])\n",
    "        self.scale = np.zeros([self.T,1])\n",
    "        self.beta = np.zeros([self.T,self.N])\n",
    "        self.gamma = np.zeros([self.T,self.N])\n",
    "        self.digamma = np.zeros([self.T,self.N,self.N])\n",
    "\n",
    "        #for plotting\n",
    "        self.logprobs = []\n",
    "\n",
    "    def alpha_pass(self):\n",
    "        \"\"\"Alpha pass is a standalone forward pass function. It takes in A,B,pi,seq and outputs the alphas and scalar \n",
    "        by recursively summing the probabilities of the partial observation sequences up to times t, until the final observation.\n",
    "        The values of alpha are scaled along the way to prevent underflow.\"\"\"\n",
    "        \n",
    "        #computes alpha[0] (the first row of alpha) and c0 (initial scaler)\n",
    "        c0 = 0\n",
    "        for i in range(self.N):\n",
    "            self.alpha[0][i] = self.pi[0][i] * self.B[i][self.seq[0]]\n",
    "            c0 += self.alpha[0][i]\n",
    "        self.scale[0][0] = 1/c0\n",
    "        \n",
    "        #scale alpha[0]\n",
    "        for i in range(self.N):\n",
    "            self.alpha[0][i] = self.scale[0][0] * self.alpha[0][i]\n",
    "\n",
    "        #computes and scales alpha[t][i], as entries in an alpha matrix\n",
    "        for t in range(1,self.T):\n",
    "            c_t = 0\n",
    "            for i in range(self.N):\n",
    "                self.alpha[t][i] = 0 \n",
    "                for j in range(self.N):\n",
    "                    self.alpha[t][i] += self.alpha[t-1][j] * self.A[j,i]\n",
    "                self.alpha[t][i] = self.alpha[t][i] * self.B[i][self.seq[t]]\n",
    "                c_t += self.alpha[t][i]\n",
    "            self.scale[t][0] = 1/c_t\n",
    "            #scale alpha[t][i]\n",
    "            for i in range(self.N):\n",
    "                self.alpha[t][i] = self.scale[t][0] * self.alpha[t][i]\n",
    "\n",
    "    def beta_pass(self):\n",
    "        \"\"\"Beta pass is a standalone backward pass function. It takes in A, B, observation sequence, and scalar and outputs the betas\n",
    "        by recursively summing the probabilities of the partial observation sequences backward from the final observation to a time t, until the initial observation.\n",
    "        The values of beta are scaled (by c, determined by the alpha pass) along the way to prevent underflow.\"\"\"\n",
    "\n",
    "        #let beta[T-1][i] = 1, scaled by c[T-1]\n",
    "        for i in range(self.N):\n",
    "            self.beta[self.T-1][i] = self.scale[self.T-1][0]\n",
    "        \n",
    "        #computes and scales beta[t][i] as entries in the beta matrix. Goes from bottom to top.\n",
    "        for t in list(range(-1*self.T,-1))[::-1]: #this indexes beta bottom-to-top, skipping the bottom row (T-1)\n",
    "            for i in range(self.N):\n",
    "                self.beta[t][i] = 0\n",
    "                for j in range(self.N):\n",
    "                    self.beta[t][i] += self.A[i,j] * self.B[j][self.seq[t+1]] * self.beta[t+1][j]\n",
    "                #scale beta[t][i]\n",
    "                self.beta[t][i] = self.scale[t][0] * self.beta[t][i]\n",
    "\n",
    "    def gamma_pass(self):\n",
    "        \"\"\"Gammas calculates the gamma and digamma. It takes in A, B, observation sequence, and scalars and outputs the gamma[i]'s (probability of being in state q_i at time t)\n",
    "        and digamma[i][j]'s (probability of being in state q_i at time t and state q_j at time t+1).\n",
    "        The values of alpha and beta are scaled (by c, determined by the alpha pass) along the way to prevent underflow, so the gamma and digamma are not scaled.\"\"\"\n",
    "\n",
    "        for t in range(self.T-1):\n",
    "            for i in range (self.N):\n",
    "                self.gamma[t][i] = 0\n",
    "                for j in range(self.N):\n",
    "                    self.digamma[t][i][j] = self.alpha[t][i] * self.A[i][j] * self.B[j][self.seq[t+1]] * self.beta[t+1][j]\n",
    "                    self.gamma[t][i] += self.digamma[t][i][j]\n",
    "            \n",
    "        #special case for gamma[i][T-1]\n",
    "        for i in range(self.N):\n",
    "            self.gamma[self.T-1][i] = self.alpha[self.T-1][i]\n",
    "    \n",
    "    def get_logprob(self):\n",
    "        logprob = 0\n",
    "        for t in range(self.T):\n",
    "            logprob += math.log(self.scale[t][0])\n",
    "        return -logprob\n",
    "    \n",
    "    def restimate(self):\n",
    "        \n",
    "        #restimate pi\n",
    "        for i in range(self.N):\n",
    "            self.pi[0][i] = self.gamma[0][i]\n",
    "\n",
    "        #restimate A\n",
    "        for i in range(self.N):\n",
    "            denom = 0\n",
    "            for t in range(self.T-1):\n",
    "                denom += self.gamma[t][i]\n",
    "            for j in range(self.N):\n",
    "                numer = 0\n",
    "                for t in range(self.T-1):\n",
    "                    numer += self.digamma[t][i][j]\n",
    "                self.A[i][j] = numer / denom\n",
    "        \n",
    "        #restimate B\n",
    "        for i in range(self.N):\n",
    "            denom = 0\n",
    "            for t in range(self.T):\n",
    "                denom += self.gamma[t][i]\n",
    "            for j in range(self.M):\n",
    "                numer = 0\n",
    "                for t in range(self.T):\n",
    "                    if self.seq[t] == j:\n",
    "                        numer += self.gamma[t][i]\n",
    "                self.B[i][j] = numer / denom\n",
    "\n",
    "    def train(self, max_iters, min_climb):\n",
    "        for i in range(max_iters+1):\n",
    "            if i == 0:\n",
    "                self.alpha_pass()\n",
    "                self.beta_pass()\n",
    "                self.gamma_pass()\n",
    "                self.restimate()\n",
    "            elif (i < max_iters+1) and (self.get_logprob() - self.old_logprob) > min_climb:\n",
    "                self.logprobs.append(self.get_logprob())\n",
    "                self.old_logprob = self.get_logprob()\n",
    "\n",
    "                self.alpha_pass()\n",
    "                self.beta_pass()\n",
    "                self.gamma_pass()\n",
    "                self.restimate()\n",
    "\n",
    "                if self.loud == True:\n",
    "                    print(self.get_logprob())\n",
    "            else:\n",
    "                print(f\"Train loop complete on iteration {i}. Log Probability: {self.get_logprob()}\")\n",
    "                break"
   ]
  },
  {
   "cell_type": "code",
   "execution_count": 4,
   "metadata": {},
   "outputs": [
    {
     "data": {
      "application/vnd.microsoft.datawrangler.viewer.v0+json": {
       "columns": [
        {
         "name": "index",
         "rawType": "int64",
         "type": "integer"
        },
        {
         "name": "filename",
         "rawType": "object",
         "type": "string"
        },
        {
         "name": "para_id",
         "rawType": "int64",
         "type": "integer"
        },
        {
         "name": "sent_id",
         "rawType": "int64",
         "type": "integer"
        },
        {
         "name": "raw_text",
         "rawType": "object",
         "type": "string"
        },
        {
         "name": "tokenized_text",
         "rawType": "object",
         "type": "string"
        },
        {
         "name": "tokenized_pos",
         "rawType": "object",
         "type": "string"
        },
        {
         "name": "label",
         "rawType": "object",
         "type": "string"
        }
       ],
       "conversionMethod": "pd.DataFrame",
       "ref": "17037b67-94c4-4ca6-b930-ea6572597bfd",
       "rows": [
        [
         "0",
         "cd05",
         "0",
         "0",
         "Furthermore/rb ,/, as/cs an/at encouragement/nn to/in revisionist/nn thinking/nn ,/, it/pps manifestly/rb is/bez fair/jj to/to admit/vb that/cs any/dti fraternity/nn has/hvz a/at constitutional/jj right/nn to/to refuse/vb to/to accept/vb persons/nns it/pps dislikes/vbz ./.",
         "Furthermore , as an encouragement to revisionist thinking , it manifestly is fair to admit that any fraternity has a constitutional right to refuse to accept persons it dislikes .",
         "rb , cs at nn in nn nn , pps rb bez jj to vb cs dti nn hvz at jj nn to vb to vb nns pps vbz .",
         "religion"
        ],
        [
         "1",
         "cd05",
         "0",
         "1",
         "The/at Unitarian/jj clergy/nns were/bed an/at exclusive/jj club/nn of/in cultivated/vbn gentlemen/nns --/-- as/cs the/at term/nn was/bedz then/rb understood/vbn in/in the/at Back/jj-tl Bay/nn-tl --/-- and/cc Parker/np was/bedz definitely/rb not/* a/at gentleman/nn ,/, either/cc in/in theology/nn or/cc in/in manners/nns ./.",
         "The Unitarian clergy were an exclusive club of cultivated gentlemen -- as the term was then understood in the Back Bay -- and Parker was definitely not a gentleman , either in theology or in manners .",
         "at jj nns bed at jj nn in vbn nns -- cs at nn bedz rb vbn in at jj-tl nn-tl -- cc np bedz rb * at nn , cc in nn cc in nns .",
         "religion"
        ],
        [
         "2",
         "cd05",
         "0",
         "2",
         "Ezra/np Stiles/np Gannett/np ,/, an/at honorable/jj representative/nn of/in the/at sanhedrin/nn ,/, addressed/vbd himself/ppl frankly/rb to/in the/at issue/nn in/in 1845/cd ,/, insisting/vbg that/cs Parker/np should/md not/* be/be persecuted/vbn or/cc calumniated/vbn and/cc that/cs in/in this/dt republic/nn no/at power/nn to/to restrain/vb him/ppo by/in force/nn could/md exist/vb ./.",
         "Ezra Stiles Gannett , an honorable representative of the sanhedrin , addressed himself frankly to the issue in 1845 , insisting that Parker should not be persecuted or calumniated and that in this republic no power to restrain him by force could exist .",
         "np np np , at jj nn in at nn , vbd ppl rb in at nn in cd , vbg cs np md * be vbn cc vbn cc cs in dt nn at nn to vb ppo in nn md vb .",
         "religion"
        ],
        [
         "3",
         "cd05",
         "0",
         "3",
         "Even/rb so/rb ,/, Gannett/np judiciously/rb argued/vbd ,/, the/at Association/nn-tl could/md legitimately/rb decide/vb that/cs Parker/np ``/`` should/md not/* be/be encouraged/vbn nor/cc assisted/vbn in/in diffusing/vbg his/pp$ opinions/nns by/in those/dts who/wps differ/vb from/in him/ppo in/in regard/nn to/in their/pp$ correctness/nn ''/'' ./.",
         "Even so , Gannett judiciously argued , the Association could legitimately decide that Parker `` should not be encouraged nor assisted in diffusing his opinions by those who differ from him in regard to their correctness '' .",
         "rb rb , np rb vbd , at nn-tl md rb vb cs np `` md * be vbn cc vbn in vbg pp$ nns in dts wps vb in ppo in nn in pp$ nn '' .",
         "religion"
        ],
        [
         "4",
         "cd05",
         "0",
         "4",
         "We/ppss today/nr are/ber not/* entitled/vbn to/to excoriate/vb honest/jj men/nns who/wps believed/vbd Parker/np to/to be/be downright/ql pernicious/jj and/cc who/wps barred/vbd their/pp$ pulpits/nns against/in his/pp$ demand/nn to/to poison/vb the/at minds/nns of/in their/pp$ congregations/nns ./.",
         "We today are not entitled to excoriate honest men who believed Parker to be downright pernicious and who barred their pulpits against his demand to poison the minds of their congregations .",
         "ppss nr ber * vbn to vb jj nns wps vbd np to be ql jj cc wps vbd pp$ nns in pp$ nn to vb at nns in pp$ nns .",
         "religion"
        ],
        [
         "5",
         "cd05",
         "0",
         "5",
         "One/pn can/md even/rb argue/vb --/-- though/cs this/dt is/bez a/at delicate/jj matter/nn --/-- that/cs every/at justification/nn existed/vbd for/in their/pp$ returning/vbg the/at Public/jj-tl Lecture/nn-tl to/in the/at First/od-tl Church/nn-tl ,/, and/cc so/rb to/to suppress/vb it/ppo ,/, rather/rb than/cs let/vb Parker/np use/vb it/ppo as/cs a/at sounding/vbg board/nn for/in his/pp$ propaganda/nn when/wrb his/pp$ turn/nn should/md come/vb to/to occupy/vb it/ppo ./.",
         "One can even argue -- though this is a delicate matter -- that every justification existed for their returning the Public Lecture to the First Church , and so to suppress it , rather than let Parker use it as a sounding board for his propaganda when his turn should come to occupy it .",
         "pn md rb vb -- cs dt bez at jj nn -- cs at nn vbd in pp$ vbg at jj-tl nn-tl in at od-tl nn-tl , cc rb to vb ppo , rb cs vb np vb ppo cs at vbg nn in pp$ nn wrb pp$ nn md vb to vb ppo .",
         "religion"
        ],
        [
         "6",
         "cd05",
         "0",
         "6",
         "Finally/rb ,/, it/pps did/dod seem/vb clear/jj as/cs day/nn to/in these/dts clergymen/nns ,/, as/cs Gannett's/np$ son/nn explained/vbd in/in the/at biography/nn of/in his/pp$ father/nn ,/, they/ppss had/hvd always/rb contended/vbn for/in the/at propriety/nn of/in their/pp$ claim/nn to/in the/at title/nn of/in Christians/nps ./.",
         "Finally , it did seem clear as day to these clergymen , as Gannett's son explained in the biography of his father , they had always contended for the propriety of their claim to the title of Christians .",
         "rb , pps dod vb jj cs nn in dts nns , cs np$ nn vbd in at nn in pp$ nn , ppss hvd rb vbn in at nn in pp$ nn in at nn in nps .",
         "religion"
        ],
        [
         "7",
         "cd05",
         "0",
         "7",
         "Their/pp$ demand/nn against/in the/at Calvinist/jj-tl Orthodoxy/nn-tl for/in intellectual/jj liberty/nn had/hvd never/rb meant/vbn that/cs they/ppss would/md follow/vb ``/`` free/jj inquiry/nn ''/'' to/in the/at extreme/nn of/in proclaiming/vbg Christianity/np a/at ``/`` natural/jj ''/'' religion/nn ./.",
         "Their demand against the Calvinist Orthodoxy for intellectual liberty had never meant that they would follow `` free inquiry '' to the extreme of proclaiming Christianity a `` natural '' religion .",
         "pp$ nn in at jj-tl nn-tl in jj nn hvd rb vbn cs ppss md vb `` jj nn '' in at nn in vbg np at `` jj '' nn .",
         "religion"
        ],
        [
         "8",
         "cd05",
         "1",
         "0",
         "Grant/vb all/abn this/dt --/-- still/rb ,/, when/wrb modern/jj Unitarianism/np and/cc the/at Harvard/np-tl Divinity/nn-tl School/nn-tl recall/vb with/in humorous/jj affection/nn the/at insults/nns Parker/np lavished/vbd upon/in them/ppo ,/, or/cc else/rb argue/vb that/cs after/in all/abn Parker/np received/vbd the/at treatment/nn he/pps invited/vbd ,/, they/ppss betray/vb an/at uneasy/jj conscience/nn ./.",
         "Grant all this -- still , when modern Unitarianism and the Harvard Divinity School recall with humorous affection the insults Parker lavished upon them , or else argue that after all Parker received the treatment he invited , they betray an uneasy conscience .",
         "vb abn dt -- rb , wrb jj np cc at np-tl nn-tl nn-tl vb in jj nn at nns np vbd in ppo , cc rb vb cs in abn np vbd at nn pps vbd , ppss vb at jj nn .",
         "religion"
        ],
        [
         "9",
         "cd05",
         "1",
         "1",
         "Whenever/wrb New/jj-tl England/np-tl liberalism/nn is/bez reminded/vbn of/in the/at dramatic/jj confrontation/nn of/in Parker/np and/cc the/at fraternity/nn on/in January/np 23/cd ,/, 1843/cd --/-- while/cs it/pps may/md defend/vb the/at privilege/nn of/in Chandler/np Robbins/np to/to demand/vb that/cs Parker/np leave/vb the/at Association/nn-tl ,/, while/cs it/pps may/md plead/vb that/cs Dr./nn-tl N./np L./np Frothingham/np had/hvd every/at warrant/nn for/in stating/vbg ,/, ``/`` The/at difference/nn between/in Trinitarians/nps and/cc Unitarians/nps is/bez a/at difference/nn in/in Christianity/np ;/. ;/.",
         "Whenever New England liberalism is reminded of the dramatic confrontation of Parker and the fraternity on January 23 , 1843 -- while it may defend the privilege of Chandler Robbins to demand that Parker leave the Association , while it may plead that Dr. N. L. Frothingham had every warrant for stating , `` The difference between Trinitarians and Unitarians is a difference in Christianity ; ;",
         "wrb jj-tl np-tl nn bez vbn in at jj nn in np cc at nn in np cd , cd -- cs pps md vb at nn in np np to vb cs np vb at nn-tl , cs pps md vb cs nn-tl np np np hvd at nn in vbg , `` at nn in nps cc nps bez at nn in np . .",
         "religion"
        ],
        [
         "10",
         "cd05",
         "1",
         "2",
         "the/at difference/nn between/in Mr./np Parker/np and/cc the/at Association/nn-tl is/bez a/at difference/nn between/in no/at Christianity/np and/cc Christianity/np ''/'' --/-- despite/in these/dts supposed/vbn conclusive/jj assurances/nns ,/, the/at modern/jj liberal/nn heaves/vbz repeatedly/rb a/at sigh/nn of/in relief/nn ,/, of/in positive/jj thanksgiving/nn ,/, that/cs the/at Association/nn-tl never/rb quite/rb brought/vbd itself/ppl officially/rb to/to expel/vb Parker/np ./.",
         "the difference between Mr. Parker and the Association is a difference between no Christianity and Christianity '' -- despite these supposed conclusive assurances , the modern liberal heaves repeatedly a sigh of relief , of positive thanksgiving , that the Association never quite brought itself officially to expel Parker .",
         "at nn in np np cc at nn-tl bez at nn in at np cc np '' -- in dts vbn jj nns , at jj nn vbz rb at nn in nn , in jj nn , cs at nn-tl rb rb vbd ppl rb to vb np .",
         "religion"
        ],
        [
         "11",
         "cd05",
         "1",
         "3",
         "Had/hvd it/pps done/vbn so/rb ,/, the/at blot/nn on/in its/pp$ escutcheon/nn would/md have/hv remained/vbn indelible/jj ,/, nor/cc could/md the/at Harvard/np-tl Divinity/nn-tl School/nn-tl assemble/vb today/nr to/to honor/vb Parker's/np$ insurgence/nn other/ap than/in by/in getting/vbg down/rp on/in its/pp$ collective/jj knees/nns and/cc crying/vbg ``/`` peccavi/fw-vbd ''/'' ./.",
         "Had it done so , the blot on its escutcheon would have remained indelible , nor could the Harvard Divinity School assemble today to honor Parker's insurgence other than by getting down on its collective knees and crying `` peccavi '' .",
         "hvd pps vbn rb , at nn in pp$ nn md hv vbn jj , cc md at np-tl nn-tl nn-tl vb nr to vb np$ nn ap in in vbg rp in pp$ jj nns cc vbg `` fw-vbd '' .",
         "religion"
        ],
        [
         "12",
         "cd05",
         "2",
         "0",
         "Happily/rb for/in posterity/nn ,/, then/rb ,/, the/at Boston/np-tl Association/nn-tl did/dod not/* actually/rb command/vb Parker/np to/to leave/vb the/at room/nn ,/, though/cs it/pps came/vbd too/ql close/rb for/in comfort/nn to/in what/wdt would/md have/hv been/ben an/at unforgivable/jj brutality/nn ./.",
         "Happily for posterity , then , the Boston Association did not actually command Parker to leave the room , though it came too close for comfort to what would have been an unforgivable brutality .",
         "rb in nn , rb , at np-tl nn-tl dod * rb vb np to vb at nn , cs pps vbd ql rb in nn in wdt md hv ben at jj nn .",
         "religion"
        ],
        [
         "13",
         "cd05",
         "2",
         "1",
         "Fortunately/rb ,/, the/at honor/nn of/in the/at denomination/nn can/md attest/vb that/cs Cyrus/np Bartol/np defended/vbd Parker's/np$ sincerity/nn ,/, as/cs did/dod also/rb Gannett/np and/cc Chandler/np Robbins/np ;/. ;/.",
         "Fortunately , the honor of the denomination can attest that Cyrus Bartol defended Parker's sincerity , as did also Gannett and Chandler Robbins ; ;",
         "rb , at nn in at nn md vb cs np np vbd np$ nn , cs dod rb np cc np np . .",
         "religion"
        ],
        [
         "14",
         "cd05",
         "2",
         "2",
         "whereupon/cs Parker/np broke/vbd down/rp into/in convulsions/nns of/in weeping/vbg and/cc rushed/vbd out/in of/in the/at room/nn ,/, though/cs not/* out/in of/in the/at Fellowship/nn-tl ./.",
         "whereupon Parker broke down into convulsions of weeping and rushed out of the room , though not out of the Fellowship .",
         "cs np vbd rp in nns in vbg cc vbd in in at nn , cs * in in at nn-tl .",
         "religion"
        ],
        [
         "15",
         "cd05",
         "2",
         "3",
         "In/in the/at hall/nn ,/, after/in adjournment/nn ,/, Dr./nn-tl Frothingham/np took/vbd him/ppo warmly/rb by/in the/at hand/nn and/cc requested/vbd Parker/np to/to visit/vb him/ppo --/-- whereupon/cs our/pp$ burly/jj Theodore/np again/rb burst/vbd into/in tears/nns ./.",
         "In the hall , after adjournment , Dr. Frothingham took him warmly by the hand and requested Parker to visit him -- whereupon our burly Theodore again burst into tears .",
         "in at nn , in nn , nn-tl np vbd ppo rb in at nn cc vbd np to vb ppo -- cs pp$ jj np rb vbd in nns .",
         "religion"
        ],
        [
         "16",
         "cd05",
         "3",
         "0",
         "All/abn this/dt near/jj tragedy/nn ,/, which/wdt to/in us/ppo borders/vbz on/in comedy/nn ,/, enables/vbz us/ppo to/to tell/vb the/at story/nn over/rp and/cc over/rp again/rb ,/, always/rb warming/vbg ourselves/ppls with/in a/at glow/nn of/in complacency/nn ./.",
         "All this near tragedy , which to us borders on comedy , enables us to tell the story over and over again , always warming ourselves with a glow of complacency .",
         "abn dt jj nn , wdt in ppo vbz in nn , vbz ppo to vb at nn rp cc rp rb , rb vbg ppls in at nn in nn .",
         "religion"
        ],
        [
         "17",
         "cd05",
         "3",
         "1",
         "It/pps was/bedz indeed/rb a/at near/jj thing/nn ,/, but/cc somehow/rb the/at inherent/jj decency/nn of/in New/jj-tl England/np-tl (/( which/wdt we/ppss inherit/vb )/) did/dod triumph/vb ./.",
         "It was indeed a near thing , but somehow the inherent decency of New England ( which we inherit ) did triumph .",
         "pps bedz rb at jj nn , cc rb at jj nn in jj-tl np-tl ( wdt ppss vb ) dod vb .",
         "religion"
        ],
        [
         "18",
         "cd05",
         "3",
         "2",
         "Parker/np was/bedz never/rb excommunicated/vbn ./.",
         "Parker was never excommunicated .",
         "np bedz rb vbn .",
         "religion"
        ],
        [
         "19",
         "cd05",
         "3",
         "3",
         "To/in the/at extent/nn that/cs he/pps was/bedz ostracized/vbn or/cc even/rb reviled/vbn ,/, we/ppss solace/vb ourselves/ppls by/in saying/vbg he/pps asked/vbd for/in it/ppo ./.",
         "To the extent that he was ostracized or even reviled , we solace ourselves by saying he asked for it .",
         "in at nn cs pps bedz vbn cc rb vbn , ppss vb ppls in vbg pps vbd in ppo .",
         "religion"
        ],
        [
         "20",
         "cd05",
         "3",
         "4",
         "Yet/rb ,/, even/rb after/in all/abn these/dts stratagems/nns ,/, the/at conscience/nn of/in Christian/jj liberality/nn is/bez still/rb not/* laid/vbn to/in rest/nn ,/, any/dti more/ap than/cs is/bez the/at conscience/nn of/in Harvard/np-tl University/nn-tl for/in having/hvg done/vbn the/at abject/jj penance/nn for/in its/pp$ rejection/nn of/in Ralph/np Waldo/np Emerson's/np$ The/at-tl Divinity/nn-tl School/nn-tl Address/nn-tl of/in naming/vbg its/pp$ hall/nn of/in philosophy/nn after/in him/ppo ./.",
         "Yet , even after all these stratagems , the conscience of Christian liberality is still not laid to rest , any more than is the conscience of Harvard University for having done the abject penance for its rejection of Ralph Waldo Emerson's The Divinity School Address of naming its hall of philosophy after him .",
         "rb , rb in abn dts nns , at nn in jj nn bez rb * vbn in nn , dti ap cs bez at nn in np-tl nn-tl in hvg vbn at jj nn in pp$ nn in np np np$ at-tl nn-tl nn-tl nn-tl in vbg pp$ nn in nn in ppo .",
         "religion"
        ],
        [
         "21",
         "cd05",
         "3",
         "5",
         "In/in both/abx cases/nns the/at stubborn/jj fact/nn remains/vbz :/: liberalism/nn gave/vbd birth/nn to/in two/cd brilliant/jj apostates/nns ,/, both/abx legitimate/jj offspring/nns of/in its/pp$ loins/nns ,/, and/cc when/wrb brought/vbn to/in the/at test/nn ,/, it/pps behaved/vbd shabbily/rb ./.",
         "In both cases the stubborn fact remains : liberalism gave birth to two brilliant apostates , both legitimate offspring of its loins , and when brought to the test , it behaved shabbily .",
         "in abx nns at jj nn vbz : nn vbd nn in cd jj nns , abx jj nns in pp$ nns , cc wrb vbn in at nn , pps vbd rb .",
         "religion"
        ],
        [
         "22",
         "cd05",
         "3",
         "6",
         "Suppose/vb they/ppss both/abx had/hvd ventured/vbn into/in realms/nns which/wdt their/pp$ colleagues/nns thought/vbd infidel/jj :/: is/bez this/dt the/at way/nn gentlemen/nns settle/vb frank/jj differences/nns of/in opinion/nn ?/. ?/.",
         "Suppose they both had ventured into realms which their colleagues thought infidel : is this the way gentlemen settle frank differences of opinion ? ?",
         "vb ppss abx hvd vbn in nns wdt pp$ nns vbd jj : bez dt at nn nns vb jj nns in nn . .",
         "religion"
        ],
        [
         "23",
         "cd05",
         "3",
         "7",
         "Is/bez it/pps after/in all/abn possible/jj that/cs no/at matter/nn how/wrb the/at liberals/nns trumpet/vb their/pp$ confidence/nn in/in human/jj dignity/nn they/ppss are/ber exposed/vbn to/in a/at contagion/nn of/in fear/nn more/ql insidious/jj than/cs any/dti conservative/nn has/hvz ever/rb to/to worry/vb about/in ?/. ?/.",
         "Is it after all possible that no matter how the liberals trumpet their confidence in human dignity they are exposed to a contagion of fear more insidious than any conservative has ever to worry about ? ?",
         "bez pps in abn jj cs at nn wrb at nns vb pp$ nn in jj nn ppss ber vbn in at nn in nn ql jj cs dti nn hvz rb to vb in . .",
         "religion"
        ],
        [
         "24",
         "cd05",
         "4",
         "0",
         "However/rb ,/, there/ex is/bez a/at crucial/jj difference/nn between/in the/at two/cd histories/nns ./.",
         "However , there is a crucial difference between the two histories .",
         "rb , ex bez at jj nn in at cd nns .",
         "religion"
        ],
        [
         "25",
         "cd05",
         "4",
         "1",
         "Emerson/np evaded/vbd the/at problem/nn by/in shoving/vbg it/ppo aside/rb ,/, or/cc rather/rb by/in leaving/vbg it/ppo behind/in him/ppo :/: he/pps walked/vbd out/in of/in the/at Unitarian/jj communion/nn ,/, so/cs that/cs it/pps could/md lick/vb the/at wound/nn of/in his/pp$ departure/nn ,/, preserve/vb its/pp$ self-respect/nn and/cc eventually/rb accord/vb him/ppo pious/jj veneration/nn ./.",
         "Emerson evaded the problem by shoving it aside , or rather by leaving it behind him : he walked out of the Unitarian communion , so that it could lick the wound of his departure , preserve its self-respect and eventually accord him pious veneration .",
         "np vbd at nn in vbg ppo rb , cc rb in vbg ppo in ppo : pps vbd in in at jj nn , cs cs pps md vb at nn in pp$ nn , vb pp$ nn cc rb vb ppo jj nn .",
         "religion"
        ],
        [
         "26",
         "cd05",
         "4",
         "2",
         "Parker/np insisted/vbd upon/in not/* resigning/vbg ,/, even/rb when/wrb the/at majority/nn wanted/vbd him/ppo to/to depart/vb ,/, upon/in daring/vbg the/at Fellowship/nn-tl to/to throw/vb him/ppo out/rp ./.",
         "Parker insisted upon not resigning , even when the majority wanted him to depart , upon daring the Fellowship to throw him out .",
         "np vbd in * vbg , rb wrb at nn vbd ppo to vb , in vbg at nn-tl to vb ppo rp .",
         "religion"
        ],
        [
         "27",
         "cd05",
         "4",
         "3",
         "Hence/rb he/pps was/bedz in/in his/pp$ lifetime/nn ,/, as/cs is/bez the/at memory/nn of/in him/ppo afterwards/rb ,/, a/at canker/nn within/in the/at liberal/jj sensitivity/nn ./.",
         "Hence he was in his lifetime , as is the memory of him afterwards , a canker within the liberal sensitivity .",
         "rb pps bedz in pp$ nn , cs bez at nn in ppo rb , at nn in at jj nn .",
         "religion"
        ],
        [
         "28",
         "cd05",
         "4",
         "4",
         "He/pps still/rb points/vbz an/at accusing/vbg finger/nn at/in all/abn of/in us/ppo ,/, telling/vbg us/ppo we/ppss have/hv neither/cc the/at courage/nn to/to support/vb him/ppo nor/cc the/at energy/nn to/to cut/vb his/pp$ throat/nn ./.",
         "He still points an accusing finger at all of us , telling us we have neither the courage to support him nor the energy to cut his throat .",
         "pps rb vbz at vbg nn in abn in ppo , vbg ppo ppss hv cc at nn to vb ppo cc at nn to vb pp$ nn .",
         "religion"
        ],
        [
         "29",
         "cd05",
         "5",
         "0",
         "Actually/rb ,/, the/at dispute/nn between/in Parker/np and/cc the/at society/nn of/in his/pp$ time/nn ,/, both/abx ecclesiastical/jj and/cc social/jj ,/, was/bedz a/at real/jj one/cd ,/, a/at bitter/jj one/cd ./.",
         "Actually , the dispute between Parker and the society of his time , both ecclesiastical and social , was a real one , a bitter one .",
         "rb , at nn in np cc at nn in pp$ nn , abx jj cc jj , bedz at jj cd , at jj cd .",
         "religion"
        ],
        [
         "30",
         "cd05",
         "5",
         "1",
         "It/pps cannot/md* be/be smoothed/vbn over/rp by/in now/rb cherishing/vbg his/pp$ sarcasms/nns as/cs delightful/jj bits/nns of/in self-deprecation/nn or/cc by/in solemnly/rb calling/vbg for/in a/at reconsideration/nn of/in the/at justice/nn of/in the/at objections/nns to/in him/ppo ./.",
         "It cannot be smoothed over by now cherishing his sarcasms as delightful bits of self-deprecation or by solemnly calling for a reconsideration of the justice of the objections to him .",
         "pps md* be vbn rp in rb vbg pp$ nns cs jj nns in nn cc in rb vbg in at nn in at nn in at nns in ppo .",
         "religion"
        ],
        [
         "31",
         "cd05",
         "5",
         "2",
         "The/at fact/nn is/bez incontestable/jj :/: that/dt liberal/jj world/nn of/in Unitarian/jj Boston/np was/bedz narrow-minded/jj ,/, intellectually/rb sterile/jj ,/, smug/jj ,/, afraid/jj of/in the/at logical/jj consequences/nns of/in its/pp$ own/jj mild/jj ventures/nns into/in iconoclasm/nn ,/, and/cc quite/ql prepared/vbn to/to resort/vb to/in hysterical/jj repressions/nns when/wrb its/pp$ brittle/jj foundations/nns were/bed threatened/vbn ./.",
         "The fact is incontestable : that liberal world of Unitarian Boston was narrow-minded , intellectually sterile , smug , afraid of the logical consequences of its own mild ventures into iconoclasm , and quite prepared to resort to hysterical repressions when its brittle foundations were threatened .",
         "at nn bez jj : dt jj nn in jj np bedz jj , rb jj , jj , jj in at jj nns in pp$ jj jj nns in nn , cc ql vbn to vb in jj nns wrb pp$ jj nns bed vbn .",
         "religion"
        ],
        [
         "32",
         "cd05",
         "5",
         "3",
         "Parker/np ,/, along/rb with/in Garrison/np and/cc Charles/np Sumner/np ,/, showed/vbd a/at magnificent/jj moral/jj bravery/nn when/wrb facing/vbg mobs/nns mobilized/vbn in/in defense/nn of/in the/at Mexican/jj-tl War/nn-tl and/cc slavery/nn ./.",
         "Parker , along with Garrison and Charles Sumner , showed a magnificent moral bravery when facing mobs mobilized in defense of the Mexican War and slavery .",
         "np , rb in np cc np np , vbd at jj jj nn wrb vbg nns vbn in nn in at jj-tl nn-tl cc nn .",
         "religion"
        ],
        [
         "33",
         "cd05",
         "5",
         "4",
         "Nevertheless/rb ,/, we/ppss can/md find/vb reasons/nns for/in respecting/vbg even/rb the/at bigotry/nn of/in the/at populace/nn ;/. ;/.",
         "Nevertheless , we can find reasons for respecting even the bigotry of the populace ; ;",
         "rb , ppss md vb nns in vbg rb at nn in at nn . .",
         "religion"
        ],
        [
         "34",
         "cd05",
         "5",
         "5",
         "their/pp$ passions/nns were/bed genuine/jj ,/, and/cc the/at division/nn between/in them/ppo and/cc the/at abolitionists/nns is/bez clear-cut/jj ./.",
         "their passions were genuine , and the division between them and the abolitionists is clear-cut .",
         "pp$ nns bed jj , cc at nn in ppo cc at nns bez jj .",
         "religion"
        ],
        [
         "35",
         "cd05",
         "5",
         "6",
         "But/cc Parker/np as/cs the/at ultra-liberal/jj minister/nn within/in the/at pale/nn of/in a/at church/nn which/wdt had/hvd proclaimed/vbn itself/ppl the/at repository/nn of/in liberality/nn poses/vbz a/at different/jj problem/nn ,/, which/wdt is/bez not/* to/to be/be resolved/vbn by/in holding/vbg him/ppo up/rp as/cs the/at champion/nn of/in freedom/nn ./.",
         "But Parker as the ultra-liberal minister within the pale of a church which had proclaimed itself the repository of liberality poses a different problem , which is not to be resolved by holding him up as the champion of freedom .",
         "cc np cs at jj nn in at nn in at nn wdt hvd vbn ppl at nn in nn vbz at jj nn , wdt bez * to be vbn in vbg ppo rp cs at nn in nn .",
         "religion"
        ],
        [
         "36",
         "cd05",
         "5",
         "7",
         "Even/rb though/cs his/pp$ theological/jj theses/nns have/hv become/vbn ,/, to/in us/ppo ,/, commonplaces/nns ,/, the/at fundamental/jj interrogation/nn he/pps phrased/vbd is/bez very/ql much/rb with/in us/ppo ./.",
         "Even though his theological theses have become , to us , commonplaces , the fundamental interrogation he phrased is very much with us .",
         "rb cs pp$ jj nns hv vbn , in ppo , nns , at jj nn pps vbd bez ql rb in ppo .",
         "religion"
        ],
        [
         "37",
         "cd05",
         "5",
         "8",
         "It/pps has/hvz been/ben endlessly/rb rephrased/vbn ,/, but/cc I/ppss may/md here/rb put/vb it/ppo thus/rb :/: at/in what/wdt point/nn do/do the/at tolerant/jj find/vb themselves/ppls obliged/vbn to/to become/vb intolerant/jj ?/. ?/.",
         "It has been endlessly rephrased , but I may here put it thus : at what point do the tolerant find themselves obliged to become intolerant ? ?",
         "pps hvz ben rb vbn , cc ppss md rb vb ppo rb : in wdt nn do at jj vb ppls vbn to vb jj . .",
         "religion"
        ],
        [
         "38",
         "cd05",
         "5",
         "9",
         "And/cc then/rb ,/, as/cs they/ppss become/vb aware/jj that/cs they/ppss have/hv reached/vbn the/at end/nn of/in their/pp$ patience/nn ,/, what/wdt do/do they/ppss ,/, to/in their/pp$ dismay/nn ,/, learn/vb for/in the/at first/od time/nn about/in themselves/ppls ?/. ?/.",
         "And then , as they become aware that they have reached the end of their patience , what do they , to their dismay , learn for the first time about themselves ? ?",
         "cc rb , cs ppss vb jj cs ppss hv vbn at nn in pp$ nn , wdt do ppss , in pp$ nn , vb in at od nn in ppls . .",
         "religion"
        ],
        [
         "39",
         "cd05",
         "6",
         "0",
         "There/ex can/md be/be no/at doubt/nn ,/, the/at Boston/np of/in that/dt era/nn could/md be/be exquisitely/ql cruel/jj in/in enforcing/vbg its/pp$ canons/nns of/in behavior/nn ./.",
         "There can be no doubt , the Boston of that era could be exquisitely cruel in enforcing its canons of behavior .",
         "ex md be at nn , at np in dt nn md be ql jj in vbg pp$ nns in nn .",
         "religion"
        ],
        [
         "40",
         "cd05",
         "6",
         "1",
         "The/at gentle/jj Channing/np ,/, revered/vbn by/in all/abn Bostonians/nps ,/, orthodox/jj or/cc Unitarian/jj ,/, wrote/vbd to/in a/at friend/nn in/in Louisville/np that/cs among/in its/pp$ many/ap virtues/nns Boston/np did/dod not/* abound/vb in/in a/at tolerant/jj spirit/nn ,/, that/cs the/at yoke/nn of/in opinion/nn crushed/vbd individuality/nn of/in judgment/nn and/cc action/nn :/: ``/`` No/at city/nn in/in the/at world/nn is/bez governed/vbn so/ql little/rb by/in a/at police/nn ,/, and/cc so/ql much/rb by/in mutual/jj inspections/nns and/cc what/wdt is/bez called/vbn public/jj sentiment/nn ./.",
         "The gentle Channing , revered by all Bostonians , orthodox or Unitarian , wrote to a friend in Louisville that among its many virtues Boston did not abound in a tolerant spirit , that the yoke of opinion crushed individuality of judgment and action : `` No city in the world is governed so little by a police , and so much by mutual inspections and what is called public sentiment .",
         "at jj np , vbn in abn nps , jj cc jj , vbd in at nn in np cs in pp$ ap nns np dod * vb in at jj nn , cs at nn in nn vbd nn in nn cc nn : `` at nn in at nn bez vbn ql rb in at nn , cc ql rb in jj nns cc wdt bez vbn jj nn .",
         "religion"
        ],
        [
         "41",
         "cd05",
         "6",
         "2",
         "We/ppss stand/vb more/rbr in/in awe/nn of/in one/cd another/dt than/cs most/ap people/nns ./.",
         "We stand more in awe of one another than most people .",
         "ppss vb rbr in nn in cd dt cs ap nns .",
         "religion"
        ],
        [
         "42",
         "cd05",
         "6",
         "3",
         "Opinion/nn is/bez less/ql individual/jj or/cc runs/vbz more/rbr into/in masses/nns ,/, and/cc often/rb rules/vbz with/in a/at rod/nn of/in iron/nn ''/'' ./.",
         "Opinion is less individual or runs more into masses , and often rules with a rod of iron '' .",
         "nn bez ql jj cc vbz rbr in nns , cc rb vbz in at nn in nn '' .",
         "religion"
        ],
        [
         "43",
         "cd05",
         "6",
         "4",
         "Even/ql more/ql poignantly/rb ,/, and/cc with/in the/at insight/nn of/in a/at genius/nn ,/, Channing/np added/vbd --/-- remember/vb ,/, this/dt is/bez Channing/np ,/, not/* Parker/np !/. !/.",
         "Even more poignantly , and with the insight of a genius , Channing added -- remember , this is Channing , not Parker ! !",
         "ql ql rb , cc in at nn in at nn , np vbd -- vb , dt bez np , * np . .",
         "religion"
        ],
        [
         "44",
         "cd05",
         "6",
         "5",
         "--/-- that/cs should/md a/at minister/nn in/in Boston/np trust/vb himself/ppl to/in his/pp$ heart/nn ,/, should/md he/pps ``/`` speak/vb without/in book/nn ,/, and/cc consequently/rb break/vb some/dti law/nn of/in speech/nn ,/, or/cc be/be hurried/vbn into/in some/dti daring/vbg hyperbole/nn ,/, he/pps should/md find/vb little/ap mercy/nn ''/'' ./.",
         "-- that should a minister in Boston trust himself to his heart , should he `` speak without book , and consequently break some law of speech , or be hurried into some daring hyperbole , he should find little mercy '' .",
         "-- cs md at nn in np vb ppl in pp$ nn , md pps `` vb in nn , cc rb vb dti nn in nn , cc be vbn in dti vbg nn , pps md vb ap nn '' .",
         "religion"
        ],
        [
         "45",
         "cd05",
         "7",
         "0",
         "Channing/np wrote/vbd this/dt --/-- in/in a/at letter/nn !/. !/.",
         "Channing wrote this -- in a letter ! !",
         "np vbd dt -- in at nn . .",
         "religion"
        ],
        [
         "46",
         "cd05",
         "7",
         "1",
         "I/ppss think/vb it/ppo fair/jj to/to say/vb that/cs he/pps never/rb quite/rb reached/vbd such/jj candor/nn in/in his/pp$ sermons/nns ./.",
         "I think it fair to say that he never quite reached such candor in his sermons .",
         "ppss vb ppo jj to vb cs pps rb rb vbd jj nn in pp$ nns .",
         "religion"
        ],
        [
         "47",
         "cd05",
         "7",
         "2",
         "But/cc Theodore/np Parker/np ,/, commencing/vbg his/pp$ mission/nn to/in the/at world-at-large/nn ,/, disguised/vbn as/cs the/at minister/nn of/in a/at ``/`` twenty-eighth/od Congregational/jj-tl Church/nn-tl ''/'' which/wdt bore/vbd no/at resemblance/nn to/in the/at Congregational/jj-tl polities/nns descended/vbn from/in the/at founders/nns (/( among/in which/wdt were/bed still/rb the/at Unitarian/jj churches/nns )/) ,/, made/vbd explicit/jj from/in the/at beginning/nn that/cs the/at conflict/nn between/in him/ppo and/cc the/at Hunkerish/jj society/nn was/bedz not/* something/pn which/wdt could/md be/be evaporated/vbn into/in a/at genteel/jj difference/nn about/in clerical/jj decorum/nn ./.",
         "But Theodore Parker , commencing his mission to the world-at-large , disguised as the minister of a `` twenty-eighth Congregational Church '' which bore no resemblance to the Congregational polities descended from the founders ( among which were still the Unitarian churches ) , made explicit from the beginning that the conflict between him and the Hunkerish society was not something which could be evaporated into a genteel difference about clerical decorum .",
         "cc np np , vbg pp$ nn in at nn , vbn cs at nn in at `` od jj-tl nn-tl '' wdt vbd at nn in at jj-tl nns vbn in at nns ( in wdt bed rb at jj nns ) , vbd jj in at nn cs at nn in ppo cc at jj nn bedz * pn wdt md be vbn in at jj nn in jj nn .",
         "religion"
        ],
        [
         "48",
         "cd05",
         "7",
         "3",
         "Because/cs he/pps spoke/vbd openly/rb with/in what/wdt Channing/np had/hvd prophesied/vbn someone/pn might/md --/-- with/in daring/vbg hyperbole/nn --/-- Parker/np vindicated/vbd Channing's/np$ further/jjr prophecy/nn that/cs he/pps who/wps committed/vbd this/dt infraction/nn of/in taste/nn would/md promptly/rb discover/vb how/wql little/ap mercy/nn liberals/nns were/bed disposed/vbn to/to allow/vb to/in libertarians/nns who/wps appeared/vbd to/in them/ppo libertines/nns ./.",
         "Because he spoke openly with what Channing had prophesied someone might -- with daring hyperbole -- Parker vindicated Channing's further prophecy that he who committed this infraction of taste would promptly discover how little mercy liberals were disposed to allow to libertarians who appeared to them libertines .",
         "cs pps vbd rb in wdt np hvd vbn pn md -- in vbg nn -- np vbd np$ jjr nn cs pps wps vbd dt nn in nn md rb vb wql ap nn nns bed vbn to vb in nns wps vbd in ppo nns .",
         "religion"
        ],
        [
         "49",
         "cd05",
         "7",
         "4",
         "An/at institutionalized/vbn liberalism/nn proved/vbd itself/ppl fundamentally/rb an/at institution/nn ,/, and/cc only/rb within/in those/dts defined/vbn limits/nns a/at license/nn ./.",
         "An institutionalized liberalism proved itself fundamentally an institution , and only within those defined limits a license .",
         "at vbn nn vbd ppl rb at nn , cc rb in dts vbn nns at nn .",
         "religion"
        ]
       ],
       "shape": {
        "columns": 7,
        "rows": 57340
       }
      },
      "text/html": [
       "<div>\n",
       "<style scoped>\n",
       "    .dataframe tbody tr th:only-of-type {\n",
       "        vertical-align: middle;\n",
       "    }\n",
       "\n",
       "    .dataframe tbody tr th {\n",
       "        vertical-align: top;\n",
       "    }\n",
       "\n",
       "    .dataframe thead th {\n",
       "        text-align: right;\n",
       "    }\n",
       "</style>\n",
       "<table border=\"1\" class=\"dataframe\">\n",
       "  <thead>\n",
       "    <tr style=\"text-align: right;\">\n",
       "      <th></th>\n",
       "      <th>filename</th>\n",
       "      <th>para_id</th>\n",
       "      <th>sent_id</th>\n",
       "      <th>raw_text</th>\n",
       "      <th>tokenized_text</th>\n",
       "      <th>tokenized_pos</th>\n",
       "      <th>label</th>\n",
       "    </tr>\n",
       "  </thead>\n",
       "  <tbody>\n",
       "    <tr>\n",
       "      <th>0</th>\n",
       "      <td>cd05</td>\n",
       "      <td>0</td>\n",
       "      <td>0</td>\n",
       "      <td>Furthermore/rb ,/, as/cs an/at encouragement/n...</td>\n",
       "      <td>Furthermore , as an encouragement to revisioni...</td>\n",
       "      <td>rb , cs at nn in nn nn , pps rb bez jj to vb c...</td>\n",
       "      <td>religion</td>\n",
       "    </tr>\n",
       "    <tr>\n",
       "      <th>1</th>\n",
       "      <td>cd05</td>\n",
       "      <td>0</td>\n",
       "      <td>1</td>\n",
       "      <td>The/at Unitarian/jj clergy/nns were/bed an/at ...</td>\n",
       "      <td>The Unitarian clergy were an exclusive club of...</td>\n",
       "      <td>at jj nns bed at jj nn in vbn nns -- cs at nn ...</td>\n",
       "      <td>religion</td>\n",
       "    </tr>\n",
       "    <tr>\n",
       "      <th>2</th>\n",
       "      <td>cd05</td>\n",
       "      <td>0</td>\n",
       "      <td>2</td>\n",
       "      <td>Ezra/np Stiles/np Gannett/np ,/, an/at honorab...</td>\n",
       "      <td>Ezra Stiles Gannett , an honorable representat...</td>\n",
       "      <td>np np np , at jj nn in at nn , vbd ppl rb in a...</td>\n",
       "      <td>religion</td>\n",
       "    </tr>\n",
       "    <tr>\n",
       "      <th>3</th>\n",
       "      <td>cd05</td>\n",
       "      <td>0</td>\n",
       "      <td>3</td>\n",
       "      <td>Even/rb so/rb ,/, Gannett/np judiciously/rb ar...</td>\n",
       "      <td>Even so , Gannett judiciously argued , the Ass...</td>\n",
       "      <td>rb rb , np rb vbd , at nn-tl md rb vb cs np ``...</td>\n",
       "      <td>religion</td>\n",
       "    </tr>\n",
       "    <tr>\n",
       "      <th>4</th>\n",
       "      <td>cd05</td>\n",
       "      <td>0</td>\n",
       "      <td>4</td>\n",
       "      <td>We/ppss today/nr are/ber not/* entitled/vbn to...</td>\n",
       "      <td>We today are not entitled to excoriate honest ...</td>\n",
       "      <td>ppss nr ber * vbn to vb jj nns wps vbd np to b...</td>\n",
       "      <td>religion</td>\n",
       "    </tr>\n",
       "    <tr>\n",
       "      <th>...</th>\n",
       "      <td>...</td>\n",
       "      <td>...</td>\n",
       "      <td>...</td>\n",
       "      <td>...</td>\n",
       "      <td>...</td>\n",
       "      <td>...</td>\n",
       "      <td>...</td>\n",
       "    </tr>\n",
       "    <tr>\n",
       "      <th>57335</th>\n",
       "      <td>cj14</td>\n",
       "      <td>6</td>\n",
       "      <td>3</td>\n",
       "      <td>For/in the/at most/ap part/nn ,/, this/dt disc...</td>\n",
       "      <td>For the most part , this discussion will be co...</td>\n",
       "      <td>in at ap nn , dt nn md be vbn in nns vbn in at...</td>\n",
       "      <td>learned</td>\n",
       "    </tr>\n",
       "    <tr>\n",
       "      <th>57336</th>\n",
       "      <td>cj14</td>\n",
       "      <td>6</td>\n",
       "      <td>4</td>\n",
       "      <td>A/np-hl ./.-hl</td>\n",
       "      <td>A .</td>\n",
       "      <td>np-hl .-hl</td>\n",
       "      <td>learned</td>\n",
       "    </tr>\n",
       "    <tr>\n",
       "      <th>57337</th>\n",
       "      <td>cj14</td>\n",
       "      <td>6</td>\n",
       "      <td>5</td>\n",
       "      <td>Standard/jj-hl preparations/nns-hl and/cc-hl u...</td>\n",
       "      <td>Standard preparations and units of thyroid-sti...</td>\n",
       "      <td>jj-hl nns-hl cc-hl nns-hl in-hl jj-hl nn-hl</td>\n",
       "      <td>learned</td>\n",
       "    </tr>\n",
       "    <tr>\n",
       "      <th>57338</th>\n",
       "      <td>cj14</td>\n",
       "      <td>6</td>\n",
       "      <td>6</td>\n",
       "      <td>The/at international/jj unit/nn (/( u./nn )/) ...</td>\n",
       "      <td>The international unit ( u. ) , adopted to mak...</td>\n",
       "      <td>at jj nn ( nn ) , vbn to vb jj at nn in nns in...</td>\n",
       "      <td>learned</td>\n",
       "    </tr>\n",
       "    <tr>\n",
       "      <th>57339</th>\n",
       "      <td>cj14</td>\n",
       "      <td>6</td>\n",
       "      <td>7</td>\n",
       "      <td>The/at international/jj unit/nn is/bez equipot...</td>\n",
       "      <td>The international unit is equipotent with the ...</td>\n",
       "      <td>at jj nn bez jj in at nn nn vbn in cd , wdt be...</td>\n",
       "      <td>learned</td>\n",
       "    </tr>\n",
       "  </tbody>\n",
       "</table>\n",
       "<p>57340 rows × 7 columns</p>\n",
       "</div>"
      ],
      "text/plain": [
       "      filename  para_id  sent_id  \\\n",
       "0         cd05        0        0   \n",
       "1         cd05        0        1   \n",
       "2         cd05        0        2   \n",
       "3         cd05        0        3   \n",
       "4         cd05        0        4   \n",
       "...        ...      ...      ...   \n",
       "57335     cj14        6        3   \n",
       "57336     cj14        6        4   \n",
       "57337     cj14        6        5   \n",
       "57338     cj14        6        6   \n",
       "57339     cj14        6        7   \n",
       "\n",
       "                                                raw_text  \\\n",
       "0      Furthermore/rb ,/, as/cs an/at encouragement/n...   \n",
       "1      The/at Unitarian/jj clergy/nns were/bed an/at ...   \n",
       "2      Ezra/np Stiles/np Gannett/np ,/, an/at honorab...   \n",
       "3      Even/rb so/rb ,/, Gannett/np judiciously/rb ar...   \n",
       "4      We/ppss today/nr are/ber not/* entitled/vbn to...   \n",
       "...                                                  ...   \n",
       "57335  For/in the/at most/ap part/nn ,/, this/dt disc...   \n",
       "57336                                     A/np-hl ./.-hl   \n",
       "57337  Standard/jj-hl preparations/nns-hl and/cc-hl u...   \n",
       "57338  The/at international/jj unit/nn (/( u./nn )/) ...   \n",
       "57339  The/at international/jj unit/nn is/bez equipot...   \n",
       "\n",
       "                                          tokenized_text  \\\n",
       "0      Furthermore , as an encouragement to revisioni...   \n",
       "1      The Unitarian clergy were an exclusive club of...   \n",
       "2      Ezra Stiles Gannett , an honorable representat...   \n",
       "3      Even so , Gannett judiciously argued , the Ass...   \n",
       "4      We today are not entitled to excoriate honest ...   \n",
       "...                                                  ...   \n",
       "57335  For the most part , this discussion will be co...   \n",
       "57336                                                A .   \n",
       "57337  Standard preparations and units of thyroid-sti...   \n",
       "57338  The international unit ( u. ) , adopted to mak...   \n",
       "57339  The international unit is equipotent with the ...   \n",
       "\n",
       "                                           tokenized_pos     label  \n",
       "0      rb , cs at nn in nn nn , pps rb bez jj to vb c...  religion  \n",
       "1      at jj nns bed at jj nn in vbn nns -- cs at nn ...  religion  \n",
       "2      np np np , at jj nn in at nn , vbd ppl rb in a...  religion  \n",
       "3      rb rb , np rb vbd , at nn-tl md rb vb cs np ``...  religion  \n",
       "4      ppss nr ber * vbn to vb jj nns wps vbd np to b...  religion  \n",
       "...                                                  ...       ...  \n",
       "57335  in at ap nn , dt nn md be vbn in nns vbn in at...   learned  \n",
       "57336                                         np-hl .-hl   learned  \n",
       "57337        jj-hl nns-hl cc-hl nns-hl in-hl jj-hl nn-hl   learned  \n",
       "57338  at jj nn ( nn ) , vbn to vb jj at nn in nns in...   learned  \n",
       "57339  at jj nn bez jj in at nn nn vbn in cd , wdt be...   learned  \n",
       "\n",
       "[57340 rows x 7 columns]"
      ]
     },
     "execution_count": 4,
     "metadata": {},
     "output_type": "execute_result"
    }
   ],
   "source": [
    "df = pd.read_csv(\"data/brown_corpus/brown.csv\")\n",
    "data = df.copy()\n",
    "data"
   ]
  },
  {
   "cell_type": "code",
   "execution_count": 5,
   "metadata": {},
   "outputs": [],
   "source": [
    "import re\n",
    "data = pd.DataFrame(columns=['clean_text'])\n",
    "data['clean_text'] = df['tokenized_text'].apply(lambda x: re.sub(r'[^a-zA-Z\\s]', '', x))\n",
    "\n",
    "#drop empty rows\n",
    "data.drop(data[data['clean_text'] == ''].index, inplace=True)\n",
    "data.reset_index(inplace=True)\n",
    "data['clean_text'] = data['clean_text'].apply(lambda x: x.lower() if type(x) == str else x)\n",
    "\n",
    "#creating numerical encoding of the text in terms of position in the alphabet plus ' ': 27\n",
    "alphabet = {chr(i + 97): str(i) for i in range(26)}\n",
    "alphabet[' '] = '26'\n",
    "\n",
    "\n",
    "#slicing to put into the model\n",
    "sequence = []\n",
    "for i in range(len(data['clean_text'])):\n",
    "    if len(sequence) > 50000:\n",
    "        break\n",
    "    else:\n",
    "        temp = list(data['clean_text'][i])\n",
    "        for t in range(len(temp)):\n",
    "            temp[t] = ''.join(alphabet.get(char, char) for char in temp[t]) #appends the unicode number associated wiht that letter\n",
    "            sequence.append(int(temp[t]))"
   ]
  },
  {
   "cell_type": "code",
   "execution_count": 6,
   "metadata": {},
   "outputs": [
    {
     "name": "stdout",
     "output_type": "stream",
     "text": [
      "Train loop complete on iteration 100. Log Probability: -136559.9667009361\n"
     ]
    }
   ],
   "source": [
    "hmm = HMM_Brown(N=2, M=27, seq=sequence, loud=False)\n",
    "hmm.train(max_iters=1000,min_climb=0.01)"
   ]
  },
  {
   "cell_type": "code",
   "execution_count": 7,
   "metadata": {},
   "outputs": [
    {
     "data": {
      "text/plain": [
       "[<matplotlib.lines.Line2D at 0x12b1e02d0>]"
      ]
     },
     "execution_count": 7,
     "metadata": {},
     "output_type": "execute_result"
    },
    {
     "data": {
      "image/png": "[encoded data removed]",
      "text/plain": [
       "<Figure size 640x480 with 1 Axes>"
      ]
     },
     "metadata": {},
     "output_type": "display_data"
    }
   ],
   "source": [
    "plt.plot(hmm.logprobs)"
   ]
  },
  {
   "cell_type": "markdown",
   "metadata": {},
   "source": [
    "Below is the emission matrix, showing that each letter has been statistically classified into one class or another. The 27th item is white space, which is not classified as either group."
   ]
  },
  {
   "cell_type": "code",
   "execution_count": 8,
   "metadata": {},
   "outputs": [
    {
     "data": {
      "application/vnd.microsoft.datawrangler.viewer.v0+json": {
       "columns": [
        {
         "name": "index",
         "rawType": "int64",
         "type": "integer"
        },
        {
         "name": "a",
         "rawType": "float64",
         "type": "float"
        },
        {
         "name": "b",
         "rawType": "float64",
         "type": "float"
        },
        {
         "name": "c",
         "rawType": "float64",
         "type": "float"
        },
        {
         "name": "d",
         "rawType": "float64",
         "type": "float"
        },
        {
         "name": "e",
         "rawType": "float64",
         "type": "float"
        },
        {
         "name": "f",
         "rawType": "float64",
         "type": "float"
        },
        {
         "name": "g",
         "rawType": "float64",
         "type": "float"
        },
        {
         "name": "h",
         "rawType": "float64",
         "type": "float"
        },
        {
         "name": "i",
         "rawType": "float64",
         "type": "float"
        },
        {
         "name": "j",
         "rawType": "float64",
         "type": "float"
        },
        {
         "name": "k",
         "rawType": "float64",
         "type": "float"
        },
        {
         "name": "l",
         "rawType": "float64",
         "type": "float"
        },
        {
         "name": "m",
         "rawType": "float64",
         "type": "float"
        },
        {
         "name": "n",
         "rawType": "float64",
         "type": "float"
        },
        {
         "name": "o",
         "rawType": "float64",
         "type": "float"
        },
        {
         "name": "p",
         "rawType": "float64",
         "type": "float"
        },
        {
         "name": "q",
         "rawType": "float64",
         "type": "float"
        },
        {
         "name": "r",
         "rawType": "float64",
         "type": "float"
        },
        {
         "name": "s",
         "rawType": "float64",
         "type": "float"
        },
        {
         "name": "t",
         "rawType": "float64",
         "type": "float"
        },
        {
         "name": "u",
         "rawType": "float64",
         "type": "float"
        },
        {
         "name": "v",
         "rawType": "float64",
         "type": "float"
        },
        {
         "name": "w",
         "rawType": "float64",
         "type": "float"
        },
        {
         "name": "x",
         "rawType": "float64",
         "type": "float"
        },
        {
         "name": "y",
         "rawType": "float64",
         "type": "float"
        },
        {
         "name": "z",
         "rawType": "float64",
         "type": "float"
        },
        {
         "name": " ",
         "rawType": "float64",
         "type": "float"
        }
       ],
       "conversionMethod": "pd.DataFrame",
       "ref": "dfa62637-d19a-4936-af2e-674d73b71930",
       "rows": [
        [
         "0",
         "0.13655478861178855",
         "1.0368949351417754e-23",
         "0.0012704857433647053",
         "0.0031733438674178805",
         "0.2201394645024967",
         "2.872275311926315e-20",
         "0.010020025698860735",
         "2.9134649639601773e-06",
         "0.13556024773430203",
         "1.4299797978559206e-46",
         "0.0003330870667403575",
         "2.1189377569261225e-13",
         "2.1007271246002602e-32",
         "3.17254086853269e-25",
         "0.13318199639014175",
         "0.0033091407703623346",
         "1.7226310652070944e-49",
         "1.2608487003056662e-29",
         "6.271175239892538e-06",
         "0.040412518230096395",
         "0.04817037137967159",
         "3.3861219045758654e-52",
         "4.29243494105009e-14",
         "3.546213394557164e-38",
         "0.021461284357041376",
         "2.2771169425682524e-24",
         "0.2464040610072561"
        ],
        [
         "1",
         "1.2877881023376101e-11",
         "0.023045970004588662",
         "0.05399516255376052",
         "0.04964594307143041",
         "2.540405111618734e-17",
         "0.035572569829663475",
         "0.01662560042937537",
         "0.08311167120978305",
         "1.594934024397991e-17",
         "0.0012638112583161696",
         "0.00606989759934051",
         "0.06345075935116144",
         "0.03947551636269842",
         "0.1064575130534534",
         "1.1896424354156705e-09",
         "0.026966460751869877",
         "0.0016355204519385108",
         "0.09170065806664612",
         "0.10749290794332396",
         "0.11123063280458353",
         "4.663468129762679e-10",
         "0.016392375438748264",
         "0.02445846494031726",
         "0.004125972049208291",
         "0.006567395241108217",
         "0.0008921020646937637",
         "0.12982309385517285"
        ]
       ],
       "shape": {
        "columns": 27,
        "rows": 2
       }
      },
      "text/html": [
       "<div>\n",
       "<style scoped>\n",
       "    .dataframe tbody tr th:only-of-type {\n",
       "        vertical-align: middle;\n",
       "    }\n",
       "\n",
       "    .dataframe tbody tr th {\n",
       "        vertical-align: top;\n",
       "    }\n",
       "\n",
       "    .dataframe thead th {\n",
       "        text-align: right;\n",
       "    }\n",
       "</style>\n",
       "<table border=\"1\" class=\"dataframe\">\n",
       "  <thead>\n",
       "    <tr style=\"text-align: right;\">\n",
       "      <th></th>\n",
       "      <th>a</th>\n",
       "      <th>b</th>\n",
       "      <th>c</th>\n",
       "      <th>d</th>\n",
       "      <th>e</th>\n",
       "      <th>f</th>\n",
       "      <th>g</th>\n",
       "      <th>h</th>\n",
       "      <th>i</th>\n",
       "      <th>j</th>\n",
       "      <th>...</th>\n",
       "      <th>r</th>\n",
       "      <th>s</th>\n",
       "      <th>t</th>\n",
       "      <th>u</th>\n",
       "      <th>v</th>\n",
       "      <th>w</th>\n",
       "      <th>x</th>\n",
       "      <th>y</th>\n",
       "      <th>z</th>\n",
       "      <th></th>\n",
       "    </tr>\n",
       "  </thead>\n",
       "  <tbody>\n",
       "    <tr>\n",
       "      <th>0</th>\n",
       "      <td>1.365548e-01</td>\n",
       "      <td>1.036895e-23</td>\n",
       "      <td>0.001270</td>\n",
       "      <td>0.003173</td>\n",
       "      <td>2.201395e-01</td>\n",
       "      <td>2.872275e-20</td>\n",
       "      <td>0.010020</td>\n",
       "      <td>0.000003</td>\n",
       "      <td>1.355602e-01</td>\n",
       "      <td>1.429980e-46</td>\n",
       "      <td>...</td>\n",
       "      <td>1.260849e-29</td>\n",
       "      <td>0.000006</td>\n",
       "      <td>0.040413</td>\n",
       "      <td>4.817037e-02</td>\n",
       "      <td>3.386122e-52</td>\n",
       "      <td>4.292435e-14</td>\n",
       "      <td>3.546213e-38</td>\n",
       "      <td>0.021461</td>\n",
       "      <td>2.277117e-24</td>\n",
       "      <td>0.246404</td>\n",
       "    </tr>\n",
       "    <tr>\n",
       "      <th>1</th>\n",
       "      <td>1.287788e-11</td>\n",
       "      <td>2.304597e-02</td>\n",
       "      <td>0.053995</td>\n",
       "      <td>0.049646</td>\n",
       "      <td>2.540405e-17</td>\n",
       "      <td>3.557257e-02</td>\n",
       "      <td>0.016626</td>\n",
       "      <td>0.083112</td>\n",
       "      <td>1.594934e-17</td>\n",
       "      <td>1.263811e-03</td>\n",
       "      <td>...</td>\n",
       "      <td>9.170066e-02</td>\n",
       "      <td>0.107493</td>\n",
       "      <td>0.111231</td>\n",
       "      <td>4.663468e-10</td>\n",
       "      <td>1.639238e-02</td>\n",
       "      <td>2.445846e-02</td>\n",
       "      <td>4.125972e-03</td>\n",
       "      <td>0.006567</td>\n",
       "      <td>8.921021e-04</td>\n",
       "      <td>0.129823</td>\n",
       "    </tr>\n",
       "  </tbody>\n",
       "</table>\n",
       "<p>2 rows × 27 columns</p>\n",
       "</div>"
      ],
      "text/plain": [
       "              a             b         c         d             e             f  \\\n",
       "0  1.365548e-01  1.036895e-23  0.001270  0.003173  2.201395e-01  2.872275e-20   \n",
       "1  1.287788e-11  2.304597e-02  0.053995  0.049646  2.540405e-17  3.557257e-02   \n",
       "\n",
       "          g         h             i             j  ...             r  \\\n",
       "0  0.010020  0.000003  1.355602e-01  1.429980e-46  ...  1.260849e-29   \n",
       "1  0.016626  0.083112  1.594934e-17  1.263811e-03  ...  9.170066e-02   \n",
       "\n",
       "          s         t             u             v             w             x  \\\n",
       "0  0.000006  0.040413  4.817037e-02  3.386122e-52  4.292435e-14  3.546213e-38   \n",
       "1  0.107493  0.111231  4.663468e-10  1.639238e-02  2.445846e-02  4.125972e-03   \n",
       "\n",
       "          y             z            \n",
       "0  0.021461  2.277117e-24  0.246404  \n",
       "1  0.006567  8.921021e-04  0.129823  \n",
       "\n",
       "[2 rows x 27 columns]"
      ]
     },
     "execution_count": 8,
     "metadata": {},
     "output_type": "execute_result"
    }
   ],
   "source": [
    "df_b = pd.DataFrame(hmm.B, columns=alphabet)\n",
    "df_b"
   ]
  },
  {
   "cell_type": "markdown",
   "metadata": {},
   "source": [
    "The transition matrix A is below. The HMM successfully identified two sets of letters, one consonants and one vowels."
   ]
  },
  {
   "cell_type": "code",
   "execution_count": 9,
   "metadata": {},
   "outputs": [
    {
     "data": {
      "application/vnd.microsoft.datawrangler.viewer.v0+json": {
       "columns": [
        {
         "name": "index",
         "rawType": "int64",
         "type": "integer"
        },
        {
         "name": "0",
         "rawType": "float64",
         "type": "float"
        },
        {
         "name": "1",
         "rawType": "float64",
         "type": "float"
        }
       ],
       "conversionMethod": "pd.DataFrame",
       "ref": "ed47cc3a-b151-45db-bbd6-c802e99c007b",
       "rows": [
        [
         "0",
         "0.1807710647137504",
         "0.8192289352862626"
        ],
        [
         "1",
         "0.704247617406644",
         "0.2957523825934183"
        ]
       ],
       "shape": {
        "columns": 2,
        "rows": 2
       }
      },
      "text/html": [
       "<div>\n",
       "<style scoped>\n",
       "    .dataframe tbody tr th:only-of-type {\n",
       "        vertical-align: middle;\n",
       "    }\n",
       "\n",
       "    .dataframe tbody tr th {\n",
       "        vertical-align: top;\n",
       "    }\n",
       "\n",
       "    .dataframe thead th {\n",
       "        text-align: right;\n",
       "    }\n",
       "</style>\n",
       "<table border=\"1\" class=\"dataframe\">\n",
       "  <thead>\n",
       "    <tr style=\"text-align: right;\">\n",
       "      <th></th>\n",
       "      <th>0</th>\n",
       "      <th>1</th>\n",
       "    </tr>\n",
       "  </thead>\n",
       "  <tbody>\n",
       "    <tr>\n",
       "      <th>0</th>\n",
       "      <td>0.180771</td>\n",
       "      <td>0.819229</td>\n",
       "    </tr>\n",
       "    <tr>\n",
       "      <th>1</th>\n",
       "      <td>0.704248</td>\n",
       "      <td>0.295752</td>\n",
       "    </tr>\n",
       "  </tbody>\n",
       "</table>\n",
       "</div>"
      ],
      "text/plain": [
       "          0         1\n",
       "0  0.180771  0.819229\n",
       "1  0.704248  0.295752"
      ]
     },
     "execution_count": 9,
     "metadata": {},
     "output_type": "execute_result"
    }
   ],
   "source": [
    "df_a = pd.DataFrame(hmm.A)\n",
    "df_a"
   ]
  },
  {
   "cell_type": "markdown",
   "metadata": {},
   "source": [
    "## Take-Away\n",
    "This is an experimental write up that is by no means optimal. It is only semi-successful in identifying the vowels and consonants and is heavily dependent on the intital conditions for A and B matrices (drichlet). Nevertheless, I learned a lot and enjoyed the time spent."
   ]
  }
 ],
 "metadata": {
  "kernelspec": {
   "display_name": "Python 3",
   "language": "python",
   "name": "python3"
  },
  "language_info": {
   "codemirror_mode": {
    "name": "ipython",
    "version": 3
   },
   "file_extension": ".py",
   "mimetype": "text/x-python",
   "name": "python",
   "nbconvert_exporter": "python",
   "pygments_lexer": "ipython3",
   "version": "3.13.0"
  }
 },
 "nbformat": 4,
 "nbformat_minor": 2
}
